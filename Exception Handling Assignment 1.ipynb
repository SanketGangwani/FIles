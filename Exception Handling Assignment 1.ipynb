{
 "cells": [
  {
   "cell_type": "markdown",
   "id": "9c0dda8a-d609-4581-9f92-440ff9949b25",
   "metadata": {},
   "source": [
    "Q.1. What is an Exception in Python. Write the difference between Exception and Syntax Errors."
   ]
  },
  {
   "cell_type": "markdown",
   "id": "5f0d9c9d-8288-4740-b8ca-6ece584374df",
   "metadata": {},
   "source": [
    "Exception:\n",
    "* In programming, an exception can be defined as a way through which a user can prevent or tackle some errors that may occur during execution of a program. \n",
    "* There might be some lines of code where proper syntax are followed and the code should function properly, However a code may function improperly if there exist some errors like TypeError, IndexingError,etc.\n",
    "* And Exceptions is a way through which a programmer can speculate possible errors and at the same time write certain piece of code to solve thode errors.\n",
    "* Exception are also useful when you want your entire program to get executed, if we don't use Exception Handling, our program will get terminated as soon as error is occured and it won't execute any further lines, Hence to prevent this and to execute every line in our program Exceptions are very useful.\n",
    "\n",
    "For Eg:\n",
    "Consider a program that divides two numbers. Here a possible error that can occur is that a user may enter a number as string which will show an error \"TypeError\". In such scenarios a programmer can handle such errors using Exception Handling."
   ]
  },
  {
   "cell_type": "code",
   "execution_count": 1,
   "id": "2d5a0327-3e67-49f9-a62c-15b26e4770cc",
   "metadata": {},
   "outputs": [],
   "source": [
    "def divide(a,b):\n",
    "    return a/b"
   ]
  },
  {
   "cell_type": "code",
   "execution_count": 2,
   "id": "a1c08d32-7bea-42dc-86c5-83d950045932",
   "metadata": {},
   "outputs": [
    {
     "name": "stdin",
     "output_type": "stream",
     "text": [
      "Enter divident number :  10\n",
      "Enter divisor number :  2\n"
     ]
    },
    {
     "name": "stdout",
     "output_type": "stream",
     "text": [
      "Error has occured but was handled here\n",
      "5.0\n",
      "Program is Over\n"
     ]
    }
   ],
   "source": [
    "Divident = input('Enter divident number : ')\n",
    "Divisor = input('Enter divisor number : ')\n",
    "\n",
    "try:\n",
    "    print(divide(Divident,Divisor))\n",
    "\n",
    "except TypeError:\n",
    "    print('Error has occured but was handled here')\n",
    "    print(divide(int(Divident),int(Divisor)))\n",
    "    \n",
    "print('Program is Over')"
   ]
  },
  {
   "cell_type": "markdown",
   "id": "ce2967f9-8859-46aa-95c1-ecf72cb28a6f",
   "metadata": {},
   "source": [
    "In this way a problem that may have occured due to a particular error can be resolved using Exception.\n",
    "\n",
    "Difference between Exceptions and Syntax Errors:\n",
    "* Syntax Errors are errors that may occur due to improper syntax meaning the programmer who has written the code has made some errors while writing a program. Syntax error may include Indentation erros where proper indentation is not followed by programmer.\n",
    "* Whereas an Exception is an error that doesn't occur on design level rather it occurs on Implementation level. Such errors may include TypeError, ZeroDivisonError,Attribute error, etc."
   ]
  },
  {
   "cell_type": "code",
   "execution_count": null,
   "id": "91297337-2899-4850-ae1e-12e8041f598c",
   "metadata": {},
   "outputs": [],
   "source": []
  },
  {
   "cell_type": "markdown",
   "id": "d719fc45-cd43-4670-be23-48322dc0d7ce",
   "metadata": {},
   "source": [
    "Q.2. What happens when an exception is not handled?. Explain with an example. "
   ]
  },
  {
   "cell_type": "markdown",
   "id": "c1f4d1f1-8e40-41d0-af9a-2e883fcc28f4",
   "metadata": {},
   "source": [
    "* Python is a programming languauge that executes a program line by line, meaning if an error is occured in a program at a particular line then the program will be terminated and no further lines will be executed. \n",
    "* So if a programmer doesn't use Exceptions in his program then some crucial lines of code that are necesary to get executed won't execute and an additional probelm may occur, hence Exception Handling may be important in some usecases."
   ]
  },
  {
   "cell_type": "code",
   "execution_count": 3,
   "id": "9af64bb2-65c2-4546-9ebb-558c9802bf71",
   "metadata": {},
   "outputs": [],
   "source": [
    "try:\n",
    "    fd = open('file.txt','w')\n",
    "    fd.write('I am inside file')\n",
    "    \n",
    "except:\n",
    "    print('Some error has occured')\n",
    "\n",
    "finally:\n",
    "    fd.close()"
   ]
  },
  {
   "cell_type": "markdown",
   "id": "1da74247-e8b8-4ee5-a456-7498f3b941d5",
   "metadata": {},
   "source": [
    "* Here a simple example is shown where a file is being opened and some data is being written in it.\n",
    "* Now it is possible that some error may occur and my program gets terminated without closing of the opened file, so to prevent this and to close the file we can use Exception Handling where even if an error is occured my file will be closed."
   ]
  },
  {
   "cell_type": "code",
   "execution_count": null,
   "id": "aaad7153-d0ae-456d-8456-f7d4e2c84ce9",
   "metadata": {},
   "outputs": [],
   "source": []
  },
  {
   "cell_type": "markdown",
   "id": "db89b3fb-2aa5-4475-b866-0715f943a759",
   "metadata": {},
   "source": [
    "Q.3. Which python statements are used to catch and handle exceptions? Explain with anexample."
   ]
  },
  {
   "cell_type": "markdown",
   "id": "880c6013-f06c-4830-916a-f019845f187c",
   "metadata": {},
   "source": [
    "* In python, __try__ and __except__ statement are used to catch and handle exceptions.\n",
    "* Here, the try block executes the code and if no errors are occured it doesn't go inside the except block, However if error occurs then it will go inside except block where it will either show the error or will try to solve the error if programmer has written some codes to do so."
   ]
  },
  {
   "cell_type": "code",
   "execution_count": 4,
   "id": "d97e0fe0-2e24-4933-a098-380c9125e8ac",
   "metadata": {},
   "outputs": [
    {
     "name": "stdout",
     "output_type": "stream",
     "text": [
      "Error occured:  list index out of range\n",
      "-------------------------\n",
      "Last line of program\n",
      "-------------------------\n"
     ]
    }
   ],
   "source": [
    "l = [1,2,3,4,5]\n",
    "try:\n",
    "    l[7]\n",
    "    \n",
    "except Exception as e:\n",
    "    print('Error occured: ',e)\n",
    "\n",
    "print('-'*25)   \n",
    "print('Last line of program')\n",
    "print('-'*25)"
   ]
  },
  {
   "cell_type": "code",
   "execution_count": null,
   "id": "f3ef5b09-7522-4bb0-ac89-69dd60d54d39",
   "metadata": {},
   "outputs": [],
   "source": []
  },
  {
   "cell_type": "markdown",
   "id": "e856753b-7b4e-462a-b13e-ee92c7a622ad",
   "metadata": {},
   "source": [
    "Q.4. Explain with an example:\n",
    "\n",
    "a. try and else\n",
    "\n",
    "b. finally\n",
    "\n",
    "c. raise\n"
   ]
  },
  {
   "cell_type": "code",
   "execution_count": 5,
   "id": "9aaa59e4-bb96-41b9-938e-9dc5ebb6716c",
   "metadata": {},
   "outputs": [
    {
     "name": "stdin",
     "output_type": "stream",
     "text": [
      "Enter first number  :  10\n",
      "Enter second number :  2\n"
     ]
    },
    {
     "name": "stdout",
     "output_type": "stream",
     "text": [
      "10+2 = 12\n",
      "Program has successfully completed, hence this else block is being executed.\n"
     ]
    }
   ],
   "source": [
    "# a. try and else\n",
    "\n",
    "try:\n",
    "    a = int(input('Enter first number  : '))\n",
    "    b = int(input('Enter second number : '))\n",
    "   \n",
    "    print(f'{a}+{b} = {a+b}')\n",
    "    \n",
    "except ValueError:\n",
    "    print('You have provided wrong inputs. Cannot convert given data into int')\n",
    "    \n",
    "else:\n",
    "    print('Program has successfully completed, hence this else block is being executed.')\n",
    "    \n",
    "# Else block is executed only if try block executes successfully."
   ]
  },
  {
   "cell_type": "code",
   "execution_count": 6,
   "id": "28beab19-ac5d-4d74-a798-0eb99fc992c3",
   "metadata": {},
   "outputs": [
    {
     "name": "stdout",
     "output_type": "stream",
     "text": [
      "Works even after return\n"
     ]
    },
    {
     "data": {
      "text/plain": [
       "'Hello World'"
      ]
     },
     "execution_count": 6,
     "metadata": {},
     "output_type": "execute_result"
    }
   ],
   "source": [
    "# b. finally\n",
    "\n",
    "try:\n",
    "    fd = open('file.txt','w')\n",
    "    fd.write('I am inside file')\n",
    "    \n",
    "except:\n",
    "    print('Some error has occured')\n",
    "\n",
    "finally:\n",
    "    fd.close()\n",
    "\n",
    "'''    \n",
    "Whether a program has an error or not, finally block is always executed.\n",
    "Hence finally block is feasible for actions or code that must be executed.\n",
    "Eg: Closing of file is something that should be done irrespective of an error, hence it is written in finally block\n",
    "\n",
    "Also, finally even works after return in user defined functions.\n",
    "'''\n",
    "\n",
    "def abc():\n",
    "    \n",
    "    try: \n",
    "        return 'Hello World'\n",
    "     \n",
    "    finally: \n",
    "        print(\"Works even after return\")\n",
    "        \n",
    "abc()       "
   ]
  },
  {
   "cell_type": "code",
   "execution_count": 7,
   "id": "ba4d9129-c9b3-4996-a952-0201b3215c98",
   "metadata": {},
   "outputs": [],
   "source": [
    "# c. raise\n",
    "\n",
    "'''\n",
    "raise is a keyword in python which is used to raise custom errors.\n",
    "Below is an example of raise.\n",
    "It will show an error if a user enters any number in his name.\n",
    "'''\n",
    "\n",
    "class InvalidName(Exception):\n",
    "    \n",
    "    def __init__(self,msg):\n",
    "        self.msg = msg\n",
    "        \n",
    "def validate_name(name):\n",
    "    for i in name.upper():\n",
    "        if ord(i) in range(65,91):\n",
    "            pass \n",
    "        else:\n",
    "            raise InvalidName('Name entered may contain numebers or special characters')"
   ]
  },
  {
   "cell_type": "code",
   "execution_count": 8,
   "id": "e48bec4e-7eb4-4177-885c-b3d23fe73bed",
   "metadata": {},
   "outputs": [],
   "source": [
    "validate_name('Sanket')                                      # No Error"
   ]
  },
  {
   "cell_type": "code",
   "execution_count": 9,
   "id": "4daaa955-080d-4d70-b54c-937f42f4f62e",
   "metadata": {},
   "outputs": [
    {
     "name": "stdout",
     "output_type": "stream",
     "text": [
      "Name entered may contain numebers or special characters\n"
     ]
    }
   ],
   "source": [
    "try:\n",
    "    validate_name('Sank2et')                                     # Custom Error\n",
    "except InvalidName as e:\n",
    "    print(e)"
   ]
  },
  {
   "cell_type": "code",
   "execution_count": null,
   "id": "3c4fac18-8d3b-48f0-a1c8-fc2ef7eeddf6",
   "metadata": {},
   "outputs": [],
   "source": []
  },
  {
   "cell_type": "markdown",
   "id": "34183719-eb9e-481a-a7e0-a4717da712cb",
   "metadata": {},
   "source": [
    "Q.5. What are Custom Exceptions in python? Why do we need Custom Exceptions? Explain with an example. "
   ]
  },
  {
   "cell_type": "markdown",
   "id": "d90eb4cb-1c46-4a10-a5fd-1ab9308ad7d6",
   "metadata": {},
   "source": [
    "Custom Exceptions:\n",
    "* Python has number of inbuilt Exception Errors like TypeError, AttributeError,etc. However while working on projects, there might be some situations where you want to handle some errors that are not treated as errors by python, but you want to raise an error for the user, this is where Custom Exceptions play an important role.\n",
    "* Custom Exceptions are user defined errors that are handled using Exception Handling and provide a way to design custom errors.\n",
    "\n",
    "Why we need Custom Exceptions:\n",
    "* We require Custom Exceptions because while working on certain projects you want your program to limit certain operations by raising Custom Errors that are not usually recognised by Python.\n",
    "* A simple example is a program that deals with age\n",
    "\n",
    "Example:"
   ]
  },
  {
   "cell_type": "code",
   "execution_count": 10,
   "id": "dd526898-407b-4c9d-9ce6-9de4caa847ec",
   "metadata": {},
   "outputs": [],
   "source": [
    "class AgeError(Exception):\n",
    "    \n",
    "    def __init__(self,msg):\n",
    "        self.msg = msg\n",
    "        \n",
    "def validateage(age):\n",
    "    \n",
    "    if age>0:\n",
    "        pass\n",
    "    else:\n",
    "        raise AgeError('Entered age is zero/negative')"
   ]
  },
  {
   "cell_type": "code",
   "execution_count": 11,
   "id": "a51be673-5549-4b57-89ee-5aff4a32429b",
   "metadata": {},
   "outputs": [
    {
     "name": "stdin",
     "output_type": "stream",
     "text": [
      "Enter your age:  -45\n"
     ]
    },
    {
     "name": "stdout",
     "output_type": "stream",
     "text": [
      "Entered age is zero/negative\n"
     ]
    }
   ],
   "source": [
    "age = int(input('Enter your age: '))\n",
    "\n",
    "try:\n",
    "    validateage(age)\n",
    "    print('Age is Valid')\n",
    "except AgeError as e:\n",
    "    print(e)\n",
    "    \n",
    "'''\n",
    "Here, python doesn't understand that age cannot be negative.\n",
    "But since we cannot take a negative age, we can define a custom error to prevent it.\n",
    "And this is where Custom Exceptions works\n",
    "'''\n",
    "\n",
    "pass"
   ]
  },
  {
   "cell_type": "code",
   "execution_count": null,
   "id": "6a61e2c3-a709-4d54-915c-b8392358d572",
   "metadata": {},
   "outputs": [],
   "source": []
  },
  {
   "cell_type": "markdown",
   "id": "a6d6affb-76ee-4415-97bf-3b5a2d04c9a8",
   "metadata": {},
   "source": [
    "Q.6. Create a custom exception class. Use this class to handle an exception."
   ]
  },
  {
   "cell_type": "code",
   "execution_count": 12,
   "id": "d23a5cae-a92e-43cd-930a-55850bac38db",
   "metadata": {},
   "outputs": [],
   "source": [
    "class ContactError(Exception):\n",
    "    \n",
    "    def __init__(self,msg):\n",
    "        self.msg = msg\n",
    "        \n",
    "def validcontact(no):\n",
    "    \n",
    "    if len(str(no)) == 10:\n",
    "        pass\n",
    "    else:\n",
    "        raise ContactError(f'Contact Number should have length 10 but {len(str(no))} was given')"
   ]
  },
  {
   "cell_type": "code",
   "execution_count": 13,
   "id": "fab68a53-0517-48b6-b794-07ae3e0f8c4c",
   "metadata": {},
   "outputs": [
    {
     "name": "stdin",
     "output_type": "stream",
     "text": [
      "Enter your contact:  78945612301234566\n"
     ]
    },
    {
     "name": "stdout",
     "output_type": "stream",
     "text": [
      "Contact Number should have length 10 but 17 was given\n"
     ]
    }
   ],
   "source": [
    "phone = int(input('Enter your contact: '))\n",
    "\n",
    "try:\n",
    "    validcontact(phone)\n",
    "    print('Contact number registered')\n",
    "    \n",
    "except ContactError as e:\n",
    "    print(e)"
   ]
  }
 ],
 "metadata": {
  "kernelspec": {
   "display_name": "Python 3 (ipykernel)",
   "language": "python",
   "name": "python3"
  },
  "language_info": {
   "codemirror_mode": {
    "name": "ipython",
    "version": 3
   },
   "file_extension": ".py",
   "mimetype": "text/x-python",
   "name": "python",
   "nbconvert_exporter": "python",
   "pygments_lexer": "ipython3",
   "version": "3.10.8"
  }
 },
 "nbformat": 4,
 "nbformat_minor": 5
}
