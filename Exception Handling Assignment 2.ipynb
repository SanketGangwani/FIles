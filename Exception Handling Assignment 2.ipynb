{
 "cells": [
  {
   "cell_type": "markdown",
   "id": "c87510de-858a-4a52-92da-2fe5f212e761",
   "metadata": {},
   "source": [
    "Q1. Explain why we have to use the Exception class while creating a Custom Exception.\n",
    "\n",
    "Note: Here Exception class refers to the base class for all the exceptions."
   ]
  },
  {
   "cell_type": "markdown",
   "id": "ee71f06b-8620-4f78-8f5f-7811095e0550",
   "metadata": {},
   "source": [
    "* In programming, an error occurs when there is some problem in your code, and as soon as an error occurs, your program gets terminated. To prevent this termination there is a concept of Exception Handling where we can handle some possible built in errors defined in Exception class in python or we can raise custom errors by inheriting Exception class in Custom Exception class.\n",
    "\n",
    "* This is because whenever an error occurs, the Exception(parent) class is invoked and the reason for error, error message, etc is shown to user. Hence whenever we try to make custom exception, it is important to inherit Exception class so that using the pre-defined methods inside Exception class, we can show certain information about the error that has occured in our custom exceptions."
   ]
  },
  {
   "cell_type": "code",
   "execution_count": null,
   "id": "442bb9ac-604c-4d91-9631-238860ef8706",
   "metadata": {},
   "outputs": [],
   "source": []
  },
  {
   "cell_type": "markdown",
   "id": "9c622135-3af9-4980-8bb6-597313b7736f",
   "metadata": {},
   "source": [
    "Q2. Write a python program to print Python Exception Hierarchy."
   ]
  },
  {
   "cell_type": "code",
   "execution_count": 1,
   "id": "02c8af54-9d3d-4751-ad5a-e78351412a60",
   "metadata": {},
   "outputs": [
    {
     "name": "stdin",
     "output_type": "stream",
     "text": [
      "Enter your age:  25\n"
     ]
    },
    {
     "name": "stdout",
     "output_type": "stream",
     "text": [
      "You are eligible for the job\n",
      "Python Exception Hierarchy is followed and program ends here\n"
     ]
    }
   ],
   "source": [
    "age = int(input('Enter your age: '))\n",
    "\n",
    "try:\n",
    "    if age>=18 and age<=30:\n",
    "        pass \n",
    "    else:\n",
    "        raise ValueError\n",
    "        \n",
    "except ValueError:\n",
    "    print('You are not in the age limit')\n",
    "    \n",
    "else:\n",
    "    print('You are eligible for the job')\n",
    "    \n",
    "finally:\n",
    "    print('Python Exception Hierarchy is followed and program ends here')"
   ]
  },
  {
   "cell_type": "code",
   "execution_count": null,
   "id": "44fd1d1f-4146-42f1-942b-a867da7209d7",
   "metadata": {},
   "outputs": [],
   "source": []
  },
  {
   "cell_type": "markdown",
   "id": "4613f23f-5564-4a5b-9a1d-c7672cebf6dc",
   "metadata": {},
   "source": [
    "Q3. What errors are defined in the ArithmeticError class? Explain any two with an example.."
   ]
  },
  {
   "cell_type": "markdown",
   "id": "95195e6b-c5a3-440b-9e55-4e46a83644d5",
   "metadata": {},
   "source": [
    "Following Errors are defined in ArithmeticError class:\n",
    "1. OverFlowError\n",
    "2. ZeroDivisionError\n",
    "3. FloatingPointError"
   ]
  },
  {
   "cell_type": "code",
   "execution_count": 2,
   "id": "19df8aa4-e149-4f27-b83a-215e8aa7bc6c",
   "metadata": {},
   "outputs": [
    {
     "name": "stdout",
     "output_type": "stream",
     "text": [
      "(34, 'Numerical result out of range')\n"
     ]
    }
   ],
   "source": [
    "'''\n",
    "1. OverFlowError:\n",
    "It occurs when a numeric computation is way too large and is out of range.\n",
    "For Eg:\n",
    "'''\n",
    "\n",
    "try:\n",
    "    print(12345.6789**123456)\n",
    "except Exception as e:\n",
    "    print(e)"
   ]
  },
  {
   "cell_type": "code",
   "execution_count": 3,
   "id": "f35a86cc-8116-4292-adae-29645cb511c0",
   "metadata": {},
   "outputs": [
    {
     "name": "stdout",
     "output_type": "stream",
     "text": [
      "division by zero\n"
     ]
    }
   ],
   "source": [
    "'''\n",
    "2. ZeroDivisionError:\n",
    "It occurs when a number is divided by zero.\n",
    "For Eg:\n",
    "'''\n",
    "try:\n",
    "    print(5/0)\n",
    "    \n",
    "except Exception as e:\n",
    "    print(e)"
   ]
  },
  {
   "cell_type": "code",
   "execution_count": null,
   "id": "03bd1c34-eacd-43ea-acdb-cfe02f1cc887",
   "metadata": {},
   "outputs": [],
   "source": []
  },
  {
   "cell_type": "markdown",
   "id": "63b26c07-aef9-4380-803e-296235f7b2c1",
   "metadata": {},
   "source": [
    "Q4. Why LookupError class is used? Explain with an example KeyError and IndexError."
   ]
  },
  {
   "cell_type": "markdown",
   "id": "6abd921b-dcce-4b37-8a72-c826c6d4b649",
   "metadata": {},
   "source": [
    "* The LookupError exception in Python forms the base class for all exceptions that are raised when an index or a key is not found for a sequence or dictionary respectively. You can use LookupError exception class to handle both IndexError and KeyError exception classes."
   ]
  },
  {
   "cell_type": "code",
   "execution_count": 4,
   "id": "6269209f-ecaf-4e55-b333-03c15fff87bc",
   "metadata": {},
   "outputs": [
    {
     "name": "stdout",
     "output_type": "stream",
     "text": [
      "'Full_name'\n"
     ]
    }
   ],
   "source": [
    "# KeyError\n",
    "\n",
    "'''\n",
    "KeyError occurs when key is not found.\n",
    "If we try to fetch value of a key by passing a key that is not present in the dictionary, we will get KeyError.\n",
    "'''\n",
    "\n",
    "try:\n",
    "    data = {'First_name':'Sanket','Last_name':'Gangwani'}\n",
    "    data['Full_name']\n",
    "    \n",
    "except KeyError as e:\n",
    "    print(e)"
   ]
  },
  {
   "cell_type": "code",
   "execution_count": 5,
   "id": "5d14b7de-ee5b-4811-9b82-239b5215d83b",
   "metadata": {},
   "outputs": [
    {
     "name": "stdout",
     "output_type": "stream",
     "text": [
      "list index out of range\n"
     ]
    }
   ],
   "source": [
    "# IndexError\n",
    "\n",
    "'''\n",
    "IndexError occurs when index is not found.\n",
    "If we try to fetch a value using indexing by passing wrong or out of range index, we will get IndexError.\n",
    "'''\n",
    "\n",
    "l = [1,2,3,4,5,6]\n",
    "\n",
    "try:\n",
    "    print(l[9])\n",
    "    \n",
    "except IndexError as e:\n",
    "    print(e)"
   ]
  },
  {
   "cell_type": "code",
   "execution_count": null,
   "id": "21048b1b-fc46-4c12-8b5a-3e45ba1f5c2f",
   "metadata": {},
   "outputs": [],
   "source": []
  },
  {
   "cell_type": "markdown",
   "id": "efb2c00c-6c78-498f-88e0-c52b572f0c22",
   "metadata": {},
   "source": [
    "Q5. Explain ImportError. What is ModuleNotFoundError? "
   ]
  },
  {
   "cell_type": "code",
   "execution_count": 6,
   "id": "6848961b-72d9-4510-a1f6-4a0ef32d1b05",
   "metadata": {},
   "outputs": [
    {
     "name": "stdout",
     "output_type": "stream",
     "text": [
      "cannot import name 'xyz' from 'sklearn' (/opt/conda/lib/python3.10/site-packages/sklearn/__init__.py)\n",
      "--------------------------------------------------\n"
     ]
    }
   ],
   "source": [
    "# ImportError\n",
    "\n",
    "'''\n",
    "ImportError occurs when we try to import a class and it is not found in module.\n",
    "If a class we are trying to import is misspelled or is not present in the module, we get ImportError.\n",
    "'''\n",
    "\n",
    "try:\n",
    "    from sklearn import xyz\n",
    "    \n",
    "except ImportError as e:\n",
    "    print(e)\n",
    "    \n",
    "\n",
    "print('-'*50) "
   ]
  },
  {
   "cell_type": "code",
   "execution_count": 7,
   "id": "38387367-3f8c-43b3-894f-5d8b0607faf0",
   "metadata": {},
   "outputs": [
    {
     "name": "stdout",
     "output_type": "stream",
     "text": [
      "No module named 'xyz'\n"
     ]
    }
   ],
   "source": [
    "# ModuleNotFoundError    \n",
    "\n",
    "'''\n",
    "ModuleError occurs when we try to import a module and it is not found.\n",
    "If a module we are trying to import is misspelled or is not present, we will get ModuleNotFoundError.\n",
    "'''\n",
    "\n",
    "try:\n",
    "    import xyz\n",
    "   \n",
    "except Exception as e:\n",
    "    print(e)"
   ]
  },
  {
   "cell_type": "code",
   "execution_count": null,
   "id": "cbf194d0-b914-4bdf-9cb2-e90f4a6add40",
   "metadata": {},
   "outputs": [],
   "source": []
  },
  {
   "cell_type": "markdown",
   "id": "9d09bc52-fb1e-49d6-b260-b5169cc33594",
   "metadata": {},
   "source": [
    "Q6. List down some best practices for exception handling in python."
   ]
  },
  {
   "cell_type": "markdown",
   "id": "06a02002-1be5-4cc9-941c-195079d40c73",
   "metadata": {},
   "source": [
    "Exception Handling is an important aspect of programming and hence must be used by following certain practices:\n",
    "\n",
    "* Always use specific exceptions instead of directly calling main Exception class.\n",
    "* Always mention proper message by stating why error has occured.\n",
    "* Always log your error.\n",
    "* Though you can use multiple exceptions with different errors, don't just randomly specify any irrelevant exception for errors that cannot occur, use only relevant exceptions.\n",
    "* Make sure you do exception handling in such a way that every resource you use and open is not left opened irrespective of any error. You must always close your resources."
   ]
  }
 ],
 "metadata": {
  "kernelspec": {
   "display_name": "Python 3 (ipykernel)",
   "language": "python",
   "name": "python3"
  },
  "language_info": {
   "codemirror_mode": {
    "name": "ipython",
    "version": 3
   },
   "file_extension": ".py",
   "mimetype": "text/x-python",
   "name": "python",
   "nbconvert_exporter": "python",
   "pygments_lexer": "ipython3",
   "version": "3.10.8"
  }
 },
 "nbformat": 4,
 "nbformat_minor": 5
}
