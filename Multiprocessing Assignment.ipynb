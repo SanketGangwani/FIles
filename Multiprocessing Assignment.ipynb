{
 "cells": [
  {
   "cell_type": "markdown",
   "id": "d212bfa6-916a-4a53-acc9-f52db4250944",
   "metadata": {},
   "source": [
    "Q1. What is multiprocessing in python? Why is it useful?"
   ]
  },
  {
   "cell_type": "markdown",
   "id": "3711232e-20e4-4e17-9252-b956f16501cb",
   "metadata": {},
   "source": [
    "__Multiprocessing__:\n",
    "* Multiprocessing is a python module that provides a simple way to run multiple processes in parallel.\n",
    "* It allows you to take the advantage of multiple cores or processors in your system and can significantly improve the performance of your program.\n",
    "* It allows the execution of multiple processes, each with its own memory space and Python interpreter, to achieve parallelism and leverage multiple CPU cores for better performance.\n",
    "* It can start multiple processes without waiting for the prior processes to finish and by doing so it can actively execute multiple processes without giving load to one processor.\n",
    "\n",
    "__Uses__:\n",
    "* Multiprocessing is useful for CPU-bound processes, such as computationally heavy tasks since it will benefit from having multiple processors.\n",
    "* A practical example may include downloading of files. If a user has sufficiently good speed internet along with a good server then by using multiprocessing,a user can utilize it's resources and improve the efficiency of a program."
   ]
  },
  {
   "cell_type": "code",
   "execution_count": null,
   "id": "cd845c73-2eb9-46eb-ac5e-3a272e055b71",
   "metadata": {},
   "outputs": [],
   "source": []
  },
  {
   "cell_type": "markdown",
   "id": "3a8f1082-974d-4cd9-8e5f-18c5cd634858",
   "metadata": {},
   "source": [
    "Q2. What are the differences between multiprocessing and multithreading?"
   ]
  },
  {
   "cell_type": "markdown",
   "id": "a45b867a-8764-4616-93a9-2fa9dc95db82",
   "metadata": {},
   "source": [
    "__Multithreading__:\n",
    "* It is a technique where a process spawns multiple threads simultaneously.\t\n",
    "* Python multithreading implements concurrency.\n",
    "* It gives the illusion that they are running parallelly, but they work in a concurrent manner.\n",
    "* In multithreading, the GIL or Global Interpreter Lock prevents the threads from running simultaneously.\n",
    "* Multithreading is lightweight and fast to start since creation of a thread is economical in both sense time and resource.\n",
    "* Multithreading is suitable for IO bound tasks.\n",
    "\n",
    "__Multiprocessing__:\n",
    "* It is the technique where multiple processes run across multiple processors/processor cores simultaneously.\n",
    "* Python multiprocessing implements parallelism in its truest form.\n",
    "* It is parallel in the sense that the multiprocessing module facilitates the running of independent processes parallelly by using subprocesses.\n",
    "* In multiprocessing, each process has its own Python Interpreter performing the execution.\n",
    "* Multiprocessing is heavyweight and slow to start since creation of a process is time consuming and resource intensive.\n",
    "* Multiprocessing is suitable for CPU bound tasks."
   ]
  },
  {
   "cell_type": "code",
   "execution_count": null,
   "id": "2d915454-5661-4a87-95ef-c032cbcff5dd",
   "metadata": {},
   "outputs": [],
   "source": []
  },
  {
   "cell_type": "markdown",
   "id": "74fd67d4-8de6-41e3-8b7b-a191f299af0b",
   "metadata": {},
   "source": [
    "Q3. Write a python code to create a process using the multiprocessing module. "
   ]
  },
  {
   "cell_type": "code",
   "execution_count": 1,
   "id": "e22c4bdb-aa1c-4181-9321-d1e4a185a613",
   "metadata": {},
   "outputs": [],
   "source": [
    "# Here I am showing that by using multiprocessing we can utilize our resources by downloading files in less time.\n",
    "\n",
    "import requests\n",
    "import time\n",
    "import multiprocessing\n",
    "\n",
    "# Function to download image files\n",
    "def downloadfile(url,name):                                             \n",
    "    response = requests.get(url)\n",
    "    open(f'file{name}.jpg','wb').write(response.content)"
   ]
  },
  {
   "cell_type": "code",
   "execution_count": 2,
   "id": "1af754d5-a31d-49fb-8b63-db80eb158b5e",
   "metadata": {},
   "outputs": [],
   "source": [
    "mkdir 'Images'"
   ]
  },
  {
   "cell_type": "code",
   "execution_count": 3,
   "id": "4d28fcb2-4725-45c3-9e09-8c5c30829df9",
   "metadata": {},
   "outputs": [
    {
     "name": "stdout",
     "output_type": "stream",
     "text": [
      "/home/jovyan/work/Images\n"
     ]
    }
   ],
   "source": [
    "cd '/home/jovyan/work/Images'"
   ]
  },
  {
   "cell_type": "code",
   "execution_count": 4,
   "id": "4001e60b-d06b-43e7-bb54-510bea723e7a",
   "metadata": {},
   "outputs": [
    {
     "name": "stdout",
     "output_type": "stream",
     "text": [
      "Normal method took          : 4.298243422061205 seconds to download 10 images\n",
      "Multiprocessing method took : 0.41810739785432816 seconds to download 10 images\n"
     ]
    }
   ],
   "source": [
    "# Here I am using the below link to download an image several times.\n",
    "\n",
    "link = 'https://picsum.photos/id/1/2000/3000'\n",
    "\n",
    "# Normal method\n",
    "t1 = time.perf_counter()\n",
    "for i in range(10):\n",
    "    downloadfile(link,f'name{i}')\n",
    "t2 = time.perf_counter()\n",
    "print(f'Normal method took          : {t2-t1} seconds to download 10 images')\n",
    "\n",
    "\n",
    "# Multiprocessing method\n",
    "t1 = time.perf_counter()\n",
    "pros = []\n",
    "for i in range(11,21):\n",
    "    m1 = multiprocessing.Process(target=downloadfile, args=[link,f'name{i}'])\n",
    "    m1.start()\n",
    "    pros.append(m1)\n",
    "    \n",
    "for p in pros:\n",
    "    p.join()\n",
    "\n",
    "t2 = time.perf_counter()\n",
    "print(f'Multiprocessing method took : {t2-t1} seconds to download 10 images')\n",
    "\n",
    "# By this we can see that through multiprocessing we can utilize our resources and complete a program in significantly less time"
   ]
  },
  {
   "cell_type": "code",
   "execution_count": null,
   "id": "b62e17bc-521b-4ad4-a75f-ec5ea5e5c5b0",
   "metadata": {},
   "outputs": [],
   "source": []
  },
  {
   "cell_type": "markdown",
   "id": "2b577ebb-6d5e-4f04-a6e4-7e960851f502",
   "metadata": {},
   "source": [
    "Q4. What is a multiprocessing pool in python? Why is it used? "
   ]
  },
  {
   "cell_type": "markdown",
   "id": "e3576913-b3dc-4cad-9422-08abe0082c76",
   "metadata": {},
   "source": [
    "__Multiprocessing pool__: \n",
    "* In Multiprocessing, a process pool is a programming pattern for automatically managing a pool of worker processes.\n",
    "* The Pool automatically distributes the tasks to the available processors using a FIFO scheduling manner. \n",
    "* It works like a map-reduce architecture. It maps different processors to different inputs and collects the output from all the processors and gives a combined result.\n",
    "\n",
    "\n",
    "__Uses__:\n",
    "* Multiprocessing pool is used when you have a set of homogeneous tasks to be executed in parallel.\n",
    "* It can be used for parallel execution of a function across multiple input values, distributing the input data across processes (data parallelism)."
   ]
  },
  {
   "cell_type": "code",
   "execution_count": null,
   "id": "cffa13e3-1772-4771-a5bf-24286a30cc68",
   "metadata": {},
   "outputs": [],
   "source": []
  },
  {
   "cell_type": "markdown",
   "id": "e0e93083-9b79-48c7-a7a4-29e9e43c2685",
   "metadata": {},
   "source": [
    "Q5. How can we create a pool of worker processes in python using the multiprocessing module? "
   ]
  },
  {
   "cell_type": "code",
   "execution_count": 5,
   "id": "40424500-6091-4c30-abf8-6560c3b746b2",
   "metadata": {},
   "outputs": [
    {
     "name": "stdout",
     "output_type": "stream",
     "text": [
      "Square of 1 is 1 and it's Cube is 1\n",
      "Square of 2 is 4 and it's Cube is 8\n",
      "Square of 3 is 9 and it's Cube is 27\n",
      "Square of 4 is 16 and it's Cube is 64\n",
      "Square of 5 is 25 and it's Cube is 125\n"
     ]
    }
   ],
   "source": [
    "def square_cube(n):\n",
    "    return f'Square of {n} is {n*n} and it\\'s Cube is {n*n*n}'\n",
    "\n",
    "lst = [1,2,3,4,5]\n",
    "if __name__ == '__main__':\n",
    "    with multiprocessing.Pool(processes=4) as pool:\n",
    "        out = pool.map(square_cube,lst)\n",
    "        for i in out:\n",
    "            print(i)"
   ]
  },
  {
   "cell_type": "code",
   "execution_count": null,
   "id": "7eab1ea2-b6f0-4c02-98b7-533940d0a25b",
   "metadata": {},
   "outputs": [],
   "source": []
  },
  {
   "cell_type": "markdown",
   "id": "a432fc2d-d344-4f85-b9bc-1cd2e3ece20b",
   "metadata": {},
   "source": [
    "Q6. Write a python program to create 4 processes, each process should print a different number using the\n",
    "multiprocessing module in python. "
   ]
  },
  {
   "cell_type": "code",
   "execution_count": 6,
   "id": "1b15f6ba-b6c9-4c11-bc59-0ad697c7f7e3",
   "metadata": {},
   "outputs": [
    {
     "name": "stdout",
     "output_type": "stream",
     "text": [
      "Process 1 gave a number: 10 \n",
      "Process 2 gave a number: 20 \n",
      "Process 3 gave a number: 30 \n",
      "Process 4 gave a number: 40 \n"
     ]
    }
   ],
   "source": [
    "def print_number(n):\n",
    "    print(f'Process {n} gave a number: {n*10} ')\n",
    "    \n",
    "if __name__ == \"__main__\":\n",
    "    for i in range(1, 5):\n",
    "        process = multiprocessing.Process(target=print_number, args=[i])\n",
    "        process.start()\n",
    "        process.join()"
   ]
  }
 ],
 "metadata": {
  "kernelspec": {
   "display_name": "Python 3 (ipykernel)",
   "language": "python",
   "name": "python3"
  },
  "language_info": {
   "codemirror_mode": {
    "name": "ipython",
    "version": 3
   },
   "file_extension": ".py",
   "mimetype": "text/x-python",
   "name": "python",
   "nbconvert_exporter": "python",
   "pygments_lexer": "ipython3",
   "version": "3.10.8"
  }
 },
 "nbformat": 4,
 "nbformat_minor": 5
}
