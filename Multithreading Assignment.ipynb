{
 "cells": [
  {
   "cell_type": "code",
   "execution_count": 1,
   "id": "11f3e6cf-f01a-49bb-a16e-8241e423e766",
   "metadata": {},
   "outputs": [],
   "source": [
    "import time\n",
    "import threading\n",
    "import warnings\n",
    "warnings.filterwarnings('ignore')"
   ]
  },
  {
   "cell_type": "markdown",
   "id": "34828dd4-955c-41d9-8524-7a0a9ebecd67",
   "metadata": {},
   "source": [
    "Q.1. What is multithreading in python? Why is it used? Name the module used to handle threads in python."
   ]
  },
  {
   "cell_type": "markdown",
   "id": "5e27b53e-4e96-4fde-a43d-df049c14a2d6",
   "metadata": {},
   "source": [
    "Multithreading:\n",
    "* Multithreading is a technique in programming that allows multiple threads of execution to run concurrently within a single process.\n",
    "* In simple words, whenever we write a program and try to execute it then that program runs in a core of your system, now through multithreading we can execute multiple programs in a single core.\n",
    "\n",
    "Why is it used:\n",
    "* Through multiprocessing, we can efficintly use our resources to complete particular tasks, So in places where we have multiple tasks and each task requires some time, then instead of completing each task individually, we can start every task simultaneously without actually waiting for the prior task to get completed.\n",
    "\n",
    "Module used to handle threads in python:\n",
    "* Python has a module named __threading__ that is used to handle threads.\n",
    "\n",
    "For Eg:"
   ]
  },
  {
   "cell_type": "code",
   "execution_count": 2,
   "id": "701ae8eb-a460-4247-b84c-cacaddb1a5c7",
   "metadata": {},
   "outputs": [
    {
     "name": "stdout",
     "output_type": "stream",
     "text": [
      "Conventional Method:\n",
      "\n",
      "Sleeping for 5 seconds\n",
      "Sleeping for 3 seconds\n",
      "Sleeping for 4 seconds\n",
      "Conventional method took 12.012539520859718 seconds\n",
      "----------------------------------------------------------------------\n",
      "Multithreading Method:\n",
      "\n",
      "Sleeping for 5 seconds\n",
      "Sleeping for 3 seconds\n",
      "Sleeping for 4 seconds\n",
      "Multithreading method took 0.0010285377502441406 seconds\n"
     ]
    }
   ],
   "source": [
    "def func(seconds):\n",
    "    print(f'Sleeping for {seconds} seconds')\n",
    "    time.sleep(seconds)                                                 # Consider this sleeping time as a heavy task that requires time\n",
    "    \n",
    "    \n",
    "l =[5,3,4]\n",
    "print('Conventional Method:\\n')\n",
    "before = time.perf_counter()\n",
    "for i in l:\n",
    "    func(i)\n",
    "after = time.perf_counter()\n",
    "print(f'Conventional method took {after-before} seconds')               # Time taken without multithreading\n",
    "print('-'*70)\n",
    "\n",
    "# Here you can see that the system waits for prior tasks to get completed which takes more time. \n",
    "                                                          \n",
    "thread = [threading.Thread(target=func, args=[i] ) for i in l]   \n",
    "\n",
    "print('Multithreading Method:\\n')\n",
    "before = time.perf_counter()\n",
    "for i in thread:\n",
    "    i.start()\n",
    "after = time.perf_counter()\n",
    "print(f'Multithreading method took {after-before} seconds')             # Time taken with multithreading\n",
    "\n",
    "# Here you can see that the system didn't wait for first task to get completed, instead it started all tasks simultaneously which ultimately saved our time."
   ]
  },
  {
   "cell_type": "code",
   "execution_count": null,
   "id": "7574de48-2867-4ac4-8d32-1c597671baf7",
   "metadata": {},
   "outputs": [],
   "source": []
  },
  {
   "cell_type": "markdown",
   "id": "098c22cc-d1df-4299-a310-ba419fcfa6f2",
   "metadata": {},
   "source": [
    "Q.2. Why threading module used? Write the use of the following functions:\n",
    "\n",
    "1. activeCount()\n",
    "2. currentThread()\n",
    "3. enumerate()"
   ]
  },
  {
   "cell_type": "markdown",
   "id": "314b3035-74ed-4174-8685-8d2434b9c0ff",
   "metadata": {},
   "source": [
    "* Python as a programming language executes a program line by line, so until a program is not completed python doesn't start another program, However using threading module one can solve this problem.\n",
    "* Python threading allows you to have different parts of your program run concurrently.\n",
    "* Meaning through threading module you can execute multiple programs run simultaneously without waiting for the completion of prior programs.  "
   ]
  },
  {
   "cell_type": "code",
   "execution_count": 3,
   "id": "e34e34fa-d304-427e-947a-5e5f5eb3d9aa",
   "metadata": {},
   "outputs": [
    {
     "name": "stdout",
     "output_type": "stream",
     "text": [
      "Number of threads active (Main Thread): 11\n",
      "--------------------------------------------------------------------------------\n",
      "Thread 1 initialized\n",
      "Thread 2 initialized\n",
      "--------------------------------------------------------------------------------\n",
      "Number of threads active after initializiation of two additional threads: 13\n"
     ]
    }
   ],
   "source": [
    "# 1. activeCount()\n",
    "\n",
    "def thread(n):\n",
    "    print(f'Thread {n} initialized')\n",
    "    time.sleep(5)\n",
    "    \n",
    "'''\n",
    "The threading.activeCount() is an inbuilt method of the threading module.\n",
    "It is used to return the number of Thread objects that are active at any instant.\n",
    "'''    \n",
    "\n",
    "print('Number of threads active (Main Thread):',threading.activeCount())\n",
    "print('-'*80)\n",
    "t1 = threading.Thread(target=thread, args=[1])\n",
    "t2 = threading.Thread(target=thread, args=[2])\n",
    "t1.start()\n",
    "t2.start()\n",
    "print('-'*80)\n",
    "print(f'Number of threads active after initializiation of two additional threads: {threading.activeCount()}')\n",
    "\n",
    "# Thus by this we can see that through activeCount() function we can see the number of active threads in a system."
   ]
  },
  {
   "cell_type": "code",
   "execution_count": 4,
   "id": "b4ff73e1-aa3e-45f1-8d45-00ebcf30d4e0",
   "metadata": {},
   "outputs": [
    {
     "name": "stdout",
     "output_type": "stream",
     "text": [
      "The current thread object is <Thread(Thread-10 (thread_count), started 140483883955776)>\n",
      "The current thread object is <Thread(Thread-11 (thread_count), started 140483883955776)>\n",
      "The current thread object is <Thread(Thread-12 (thread_count), started 140483883955776)>\n"
     ]
    }
   ],
   "source": [
    "# 2. currentThread()\n",
    "\n",
    "'''\n",
    "The threading.currentThread() is an inbuilt method of the threading module.\n",
    "It is used to return the current Thread object, which corresponds to the caller's thread of control.\n",
    "'''\n",
    "\n",
    "def thread_count():\n",
    "    print(f'The current thread object is {threading.currentThread()}')\n",
    "    \n",
    "    \n",
    "thread_no_1 = threading.Thread(target=thread_count, args=())\n",
    "thread_no_2 = threading.Thread(target=thread_count, args=())\n",
    "thread_no_3 = threading.Thread(target=thread_count, args=())\n",
    "\n",
    "thread_no_1.start()\n",
    "thread_no_2.start()\n",
    "thread_no_3.start()"
   ]
  },
  {
   "cell_type": "code",
   "execution_count": 5,
   "id": "e06038a2-7a74-41dc-af73-e08b74b987cc",
   "metadata": {
    "tags": []
   },
   "outputs": [
    {
     "name": "stdout",
     "output_type": "stream",
     "text": [
      "Threads alive:\n",
      "\n",
      "[<_MainThread(MainThread, started 140485021402944)>, <Thread(IOPub, started daemon 140484950873664)>, <Heartbeat(Heartbeat, started daemon 140484942480960)>, <Thread(Thread-3 (_watch_pipe_fd), started daemon 140484917302848)>, <Thread(Thread-4 (_watch_pipe_fd), started daemon 140484908910144)>, <ControlThread(Control, started daemon 140484900517440)>, <HistorySavingThread(IPythonHistorySavingThread, started 140484420826688)>, <ParentPollerUnix(Thread-2, started daemon 140484412433984)>, <Thread(Thread-5 (func), started 140484404041280)>, <Thread(Thread-6 (func), started 140484395648576)>, <Thread(Thread-7 (func), started 140484387255872)>, <Thread(Thread-8 (thread), started 140484378863168)>, <Thread(Thread-9 (thread), started 140484370470464)>, <Thread(Thread-13 (thread), started 140483883955776)>]\n"
     ]
    }
   ],
   "source": [
    "# 3. enumerate()\n",
    "\n",
    "'''\n",
    "The threading.enumerate() is an inbuilt method of the threading module.\n",
    "It is used to return the list of all the Thread class objects which are currently alive. \n",
    "It also includes daemonic threads, the main thread, and dummy thread objects created by current_thread(). \n",
    "It does not count the threads that have terminated or which have not started yet.\n",
    "'''\n",
    "\n",
    "def thread():\n",
    "    print(\"Threads alive:\\n\")\n",
    "    print(threading.enumerate())\n",
    "\n",
    "t1 = threading.Thread(target=thread, args=())\n",
    "\n",
    "t1.start()"
   ]
  },
  {
   "cell_type": "code",
   "execution_count": null,
   "id": "7b28c768-87f8-42e2-b536-b80cfa3893b5",
   "metadata": {},
   "outputs": [],
   "source": []
  },
  {
   "cell_type": "markdown",
   "id": "5fe6849a-4ba1-44fe-b1b0-e6abc75f8aa3",
   "metadata": {
    "tags": []
   },
   "source": [
    "Q.3. Explain the following functions :\n",
    "\n",
    "1. run()\n",
    "2. start()\n",
    "3. join()\n",
    "4. isAlive()"
   ]
  },
  {
   "cell_type": "code",
   "execution_count": 6,
   "id": "321554a3-1bdf-4f04-ae63-caf47ba42cb0",
   "metadata": {},
   "outputs": [
    {
     "name": "stdout",
     "output_type": "stream",
     "text": [
      "The addition of 5 and 2 is 7\n"
     ]
    }
   ],
   "source": [
    "# 1. run()\n",
    "\n",
    "'''\n",
    "The Thread.run() method is an inbuilt method of the Thread class of the threading module.\n",
    "It executes any target function belonging to a given thread object that is now active. \n",
    "It normally executes in the background after the .start() method is invoked.\n",
    "'''\n",
    "\n",
    "\n",
    "def add(a,b):\n",
    "    print(f'The addition of {a} and {b} is {a+b}')\n",
    "    \n",
    "t1 = threading.Thread(target=add, args=[5,2])\n",
    "t1.run()"
   ]
  },
  {
   "cell_type": "code",
   "execution_count": 7,
   "id": "23a91717-1bc0-492c-a34f-11750f54587f",
   "metadata": {},
   "outputs": [
    {
     "name": "stdout",
     "output_type": "stream",
     "text": [
      "The square of elements in list [1, 2, 3, 4, 5, 6] is:\n",
      "[1, 4, 9, 16, 25, 36]\n"
     ]
    }
   ],
   "source": [
    "# 2. start()\n",
    "\n",
    "'''\n",
    "The Thread.start() method is an inbuilt method of the Thread class of the threading module.\n",
    "It is used to start a thread's activity. This method calls the run() method internally which then executes the target method. \n",
    "This method must be called at most one time for one thread. If it is called more than once, it raises a RuntimeError.\n",
    "'''\n",
    "\n",
    "\n",
    "def square(lst):\n",
    "    print(f'The square of elements in list {lst} is:\\n{[i*i for i in lst]}')\n",
    "    \n",
    "obj = threading.Thread(target=square, args=[[1,2,3,4,5,6]])\n",
    "obj.start()"
   ]
  },
  {
   "cell_type": "code",
   "execution_count": 8,
   "id": "7d7f254e-64ca-474b-a322-335de06314cc",
   "metadata": {},
   "outputs": [
    {
     "name": "stdout",
     "output_type": "stream",
     "text": [
      "Sleeping for 3 seconds\n",
      "Sleeping for 3 seconds\n",
      "\n",
      "Here we can see that if we just start a thread and we don't use .join()\n",
      "Then the system won't wait for the termination of thread.\n",
      "And hence time calculated is: 0.0013937093317508698\n",
      "________________________________________________________________________________\n",
      "\n",
      "However if we use .join()\n",
      "Then the system will wait till the threads are executed\n",
      "\n",
      "Sleeping for 3 seconds\n",
      "Sleeping for 3 seconds\n",
      "And here you can see that when .join() was used, system waited for completion of thread \n",
      "And the time took by the system was: 6.00629648193717\n"
     ]
    }
   ],
   "source": [
    "# 3. join()\n",
    "\n",
    "'''\n",
    "The Thread.join() method is an inbuilt method of the Thread class of the threading module.\n",
    "It is used to wait for a thread to complete its work.\n",
    "'''\n",
    "\n",
    "def sleep(sec):\n",
    "    print(f'Sleeping for {sec} seconds')\n",
    "    time.sleep(sec)\n",
    "\n",
    "t1 = threading.Thread(target=sleep, args=(3,))\n",
    "t2 = threading.Thread(target=sleep, args=(3,))\n",
    "\n",
    "bef = time.perf_counter()\n",
    "t1.start()\n",
    "t2.start()\n",
    "aft = time.perf_counter()\n",
    "print()\n",
    "print('Here we can see that if we just start a thread and we don\\'t use .join()') \n",
    "print('Then the system won\\'t wait for the termination of thread.')\n",
    "print(f'And hence time calculated is: {aft - bef}')\n",
    "print('_'*80)\n",
    "\n",
    "print()\n",
    "print('However if we use .join()')\n",
    "print('Then the system will wait till the threads are executed\\n')\n",
    "# print('-'*80)\n",
    "\n",
    "t1 = threading.Thread(target=sleep, args=(3,))\n",
    "t2 = threading.Thread(target=sleep, args=(3,))\n",
    "\n",
    "bef = time.perf_counter()\n",
    "t1.start()\n",
    "t1.join()\n",
    "t2.start()\n",
    "t2.join()\n",
    "aft = time.perf_counter()\n",
    "\n",
    "print('And here you can see that when .join() was used, system waited for completion of thread ')\n",
    "print(f'And the time took by the system was: {aft-bef}')"
   ]
  },
  {
   "cell_type": "code",
   "execution_count": 9,
   "id": "c538c1a1-ca75-4ac7-a02e-93a59d7c6ea1",
   "metadata": {},
   "outputs": [
    {
     "name": "stdout",
     "output_type": "stream",
     "text": [
      "The status of thread before thread was started is: False, meaning thread is not alive\n",
      "------------------------------------------------------------------------------------------\n",
      "The status of thread before thread was started is: True, meaning thread is alive\n",
      "------------------------------------------------------------------------------------------\n"
     ]
    }
   ],
   "source": [
    "# 4. isAlive()\n",
    "\n",
    "'''\n",
    "The Thread.is_alive() method is an inbuilt method of the Thread class of the threading module.\n",
    "It is used to check whether that thread is alive or not, or is it still running or not.\n",
    "'''\n",
    "\n",
    "def bifercate(lst):\n",
    "    integer = []\n",
    "    string = []\n",
    "    for i in lst:\n",
    "        time.sleep(0.2)\n",
    "        if type(i) == float or type(i) == int:\n",
    "            integer.append(i)\n",
    "        else:\n",
    "            string.append(i)\n",
    "    print(f'String elements are  : {string}')\n",
    "    print(f'Integer/Float elements are : {integer} ')\n",
    "            \n",
    "thr = threading.Thread(target=bifercate, args=[[1,2,0.5,5.4,'Pw','skills']])\n",
    "print(f'The status of thread before thread was started is: {thr.is_alive()}, meaning thread is not alive')\n",
    "thr.start()\n",
    "print('-'*90)\n",
    "print(f'The status of thread before thread was started is: {thr.is_alive()}, meaning thread is alive')\n",
    "print('-'*90)"
   ]
  },
  {
   "cell_type": "code",
   "execution_count": null,
   "id": "48c28b19-b2a9-46cf-bb55-951a946f5b1f",
   "metadata": {},
   "outputs": [],
   "source": []
  },
  {
   "cell_type": "markdown",
   "id": "397ef2b9-fd9b-4fc8-b8d5-42f692dd11eb",
   "metadata": {},
   "source": [
    "Q.4. Write a python program to create two threads. Thread one must print the list of squares and thread\n",
    "two must print the list of cubes"
   ]
  },
  {
   "cell_type": "code",
   "execution_count": 10,
   "id": "925475e4-3e18-46bb-9bed-6d835afa371a",
   "metadata": {},
   "outputs": [
    {
     "name": "stdout",
     "output_type": "stream",
     "text": [
      "Square of list elemnets of list -  [1, 2, 3, 4, 5] is : [1, 4, 9, 16, 25]\n",
      "Cube of list elemnets of list   -  [1, 2, 3, 4, 5] is : [1, 8, 27, 64, 125]\n"
     ]
    }
   ],
   "source": [
    "def square(lst):\n",
    "    sq = []\n",
    "    for i in lst:\n",
    "        sq.append(i*i)\n",
    "    print(f'Square of list elemnets of list -  {lst} is : {sq}')\n",
    "        \n",
    "def cube(lst):\n",
    "    cu = []\n",
    "    for i in lst:\n",
    "        cu.append(i*i*i)\n",
    "    print(f'Cube of list elemnets of list   -  {lst} is : {cu}')\n",
    "        \n",
    "lst = [1,2,3,4,5] \n",
    "\n",
    "thr1 = threading.Thread(target=square, args=[lst])\n",
    "thr2 = threading.Thread(target=cube, args=[lst])\n",
    "\n",
    "thr1.start()\n",
    "thr2.start()"
   ]
  },
  {
   "cell_type": "code",
   "execution_count": null,
   "id": "684cd58e-758e-45f9-8847-9ae6c580797c",
   "metadata": {},
   "outputs": [],
   "source": []
  },
  {
   "cell_type": "markdown",
   "id": "75ba66fd-53cc-4fdb-a672-b59e8393e517",
   "metadata": {},
   "source": [
    "Q.5. State advantages and disadvantages of multithreading. "
   ]
  },
  {
   "cell_type": "markdown",
   "id": "815077c3-bd2a-4714-9e19-0bc18f25260e",
   "metadata": {},
   "source": [
    "1. Advantages of Multithreading:\n",
    "\n",
    "__Multithreading advantages:__\n",
    "* Python multithreading enables efficient utilization of the resources as the threads share the data space and memory.\n",
    "* Multithreading in Python allows the concurrent and parallel occurrence of various tasks.\n",
    "* It causes a reduction in time consumption or response time, thereby increasing the performance.\n",
    "\n",
    "2. Disadvantages of Multithreading:\n",
    "\n",
    "__Multithreading disadvantages:__\n",
    "* Multithreading program can be complex, especially when dealing with shared resources.\n",
    "* In multithreading, each thread requires its own space for execution and if number of threads are present in a program then it may decrease the performance of our program.\n",
    "* Multithreading may lead to deadlocks that occurs when two or more threads are blocked indefinitely, each waiting for a resource that is held by another thread in the deadlock group.\n",
    "* In case of Python, the Global Interpreter Lock (GIL) ensures that only one thread executes Python bytecode at a time, effectively limiting the parallel execution of threads within a single Python process."
   ]
  },
  {
   "cell_type": "code",
   "execution_count": null,
   "id": "3b601aee-528b-4104-954d-18c2bb60632b",
   "metadata": {},
   "outputs": [],
   "source": []
  },
  {
   "cell_type": "markdown",
   "id": "0724f48b-a92b-4c4c-bb99-0289db79ba35",
   "metadata": {},
   "source": [
    "Q.6. Explain deadlocks and race conditions. "
   ]
  },
  {
   "cell_type": "markdown",
   "id": "e5cf8824-5840-429b-b92c-0b5ff3cdb846",
   "metadata": {},
   "source": [
    "__Deadlocks__:\n",
    "* A deadlock may be described as a concurrency failure mode. It is a situation in a program where one or more threads wait for a condition that never occurs. \n",
    "* As a result, the threads are unable to progress and the program is stuck or frozen and must be terminated manually.\n",
    "* Common causes of thread deadlocks are:\n",
    "    1. Threads waiting on each other (e.g. A waits on B, B waits on A).\n",
    "    2. A thread that attempts to acquire the same mutex lock twice.\n",
    "    3. When a thread that fails to release a resource such as lock, semaphore, condition, event, etc.\n",
    "    \n",
    "__Race conditions__:\n",
    "* A race condition occurs when two or more threads can access shared data and they try to change it at the same time. \n",
    "* It is a failure case where the behavior of the program is dependent upon the order of execution by two or more threads. This means that the behavior of the program will not be predictable, possibly changing each time it is run.\n",
    "* Common reasons for race conditions:\n",
    "    1. Race caused by accessing shared data or state.\n",
    "    2. Race conditions caused due to timing."
   ]
  }
 ],
 "metadata": {
  "kernelspec": {
   "display_name": "Python 3 (ipykernel)",
   "language": "python",
   "name": "python3"
  },
  "language_info": {
   "codemirror_mode": {
    "name": "ipython",
    "version": 3
   },
   "file_extension": ".py",
   "mimetype": "text/x-python",
   "name": "python",
   "nbconvert_exporter": "python",
   "pygments_lexer": "ipython3",
   "version": "3.10.8"
  }
 },
 "nbformat": 4,
 "nbformat_minor": 5
}
